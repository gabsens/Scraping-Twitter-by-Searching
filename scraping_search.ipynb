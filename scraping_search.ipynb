{
 "cells": [
  {
   "cell_type": "code",
   "execution_count": 45,
   "metadata": {},
   "outputs": [],
   "source": [
    "import pandas as pd\n",
    "from bs4 import BeautifulSoup\n",
    "from tqdm import tqdm\n",
    "import requests\n",
    "import multiprocessing as mp\n",
    "from p_tqdm import p_map\n",
    "import time\n",
    "%matplotlib inline"
   ]
  },
  {
   "cell_type": "code",
   "execution_count": 17,
   "metadata": {},
   "outputs": [],
   "source": [
    "def epoch_to_local(timestr):\n",
    "    return time.strftime('%d-%m-%Y %H:%M:%S', time.localtime(int(timestr))) #matches tweets' time as long as user is on CET time\n",
    "\n",
    "def tweets_from_search(response):\n",
    "    soup = BeautifulSoup(response.text, 'html.parser')\n",
    "    metadata = [(item[\"data-conversation-id\"], epoch_to_local(item.span[\"data-time\"]))\\\n",
    "                for item in soup.find_all(\"a\", class_=\"tweet-timestamp js-permalink js-nav js-tooltip\")]\n",
    "    text = [item.getText() for item in soup.find_all(\"p\", class_=\"TweetTextSize js-tweet-text tweet-text\")]\n",
    "    return list(zip(metadata, text))"
   ]
  },
  {
   "cell_type": "markdown",
   "metadata": {},
   "source": [
    "# I. RER B"
   ]
  },
  {
   "cell_type": "markdown",
   "metadata": {},
   "source": [
    "## a) Single Thread"
   ]
  },
  {
   "cell_type": "code",
   "execution_count": 28,
   "metadata": {},
   "outputs": [],
   "source": [
    "headers = {\n",
    "    'authority': 'twitter.com',\n",
    "    'dnt': '1',\n",
    "    'upgrade-insecure-requests': '1',\n",
    "    'user-agent': 'Mozilla/5.0 (Macintosh; Intel Mac OS X 10_15_1) AppleWebKit/537.36 (KHTML, like Gecko) Chrome/78.0.3904.108 Safari/537.36',\n",
    "    'accept': 'text/html,application/xhtml+xml,application/xml;q=0.9,image/webp,image/apng,*/*;q=0.8,application/signed-exchange;v=b3',\n",
    "    'sec-fetch-site': 'none',\n",
    "    'sec-fetch-mode': 'navigate',\n",
    "    'accept-encoding': 'gzip, deflate, br',\n",
    "    'accept-language': 'en-US,en;q=0.9,fr-FR;q=0.8,fr;q=0.7,ru;q=0.6,de;q=0.5,pt;q=0.4',\n",
    "}\n",
    "\n",
    "params = [\n",
    "    ('q', 'from:RERB exclude:replies since:2017-10-04  until:2017-10-05'),\n",
    "    ('src', 'typed_query'),\n",
    "    ('f', 'tweets'),\n",
    "    ('lang', 'fr'),\n",
    "]"
   ]
  },
  {
   "cell_type": "code",
   "execution_count": 29,
   "metadata": {},
   "outputs": [
    {
     "name": "stderr",
     "output_type": "stream",
     "text": [
      "100%|██████████| 30/30 [00:18<00:00,  1.61it/s]\n"
     ]
    }
   ],
   "source": [
    "dates = list(pd.date_range(start='1/1/2019', end='1/31/2019').strftime(\"%Y-%m-%d\"))[::-1]\n",
    "out = []\n",
    "for i in tqdm(range(len(dates)-1)):\n",
    "    params[0] = ('q', 'from:RERB exclude:replies since:'+dates[i+1]+'  until:'+dates[i])\n",
    "    response = requests.get('https://twitter.com/search', headers=headers, params=params)\n",
    "    out = out + tweets_from_search(response)"
   ]
  },
  {
   "cell_type": "code",
   "execution_count": 31,
   "metadata": {},
   "outputs": [],
   "source": [
    "def get_tweets_rerb_single(start, end):\n",
    "    dates = list(pd.date_range(start=start, end=end).strftime(\"%Y-%m-%d\"))[::-1]\n",
    "    out = []\n",
    "    for i in range(len(dates)-1):\n",
    "        params[0] = ('q', 'from:RERB exclude:replies since:'+dates[i+1]+'  until:'+dates[i])\n",
    "        response = requests.get('https://twitter.com/search', headers=headers, params=params)\n",
    "        out = out + tweets_from_search(response)\n",
    "    return out"
   ]
  },
  {
   "cell_type": "code",
   "execution_count": 34,
   "metadata": {},
   "outputs": [
    {
     "name": "stdout",
     "output_type": "stream",
     "text": [
      "22 s ± 8.44 s per loop (mean ± std. dev. of 7 runs, 1 loop each)\n"
     ]
    }
   ],
   "source": [
    "%timeit get_tweets_rerb_single(start='1/1/2019', end='1/31/2019')"
   ]
  },
  {
   "cell_type": "markdown",
   "metadata": {},
   "source": [
    "## b) Multi-thread"
   ]
  },
  {
   "cell_type": "code",
   "execution_count": 35,
   "metadata": {},
   "outputs": [],
   "source": [
    "def get_tweets_between(dates): #dates=(date0, date1) where date0 > date1. Choosing consecutive days prevents omissions from missing scrolling\n",
    "    headers = {\n",
    "    'authority': 'twitter.com',\n",
    "    'dnt': '1',\n",
    "    'upgrade-insecure-requests': '1',\n",
    "    'user-agent': 'Mozilla/5.0 (Macintosh; Intel Mac OS X 10_15_1) AppleWebKit/537.36 (KHTML, like Gecko) Chrome/78.0.3904.108 Safari/537.36',\n",
    "    'accept': 'text/html,application/xhtml+xml,application/xml;q=0.9,image/webp,image/apng,*/*;q=0.8,application/signed-exchange;v=b3',\n",
    "    'sec-fetch-site': 'none',\n",
    "    'sec-fetch-mode': 'navigate',\n",
    "    'accept-encoding': 'gzip, deflate, br',\n",
    "    'accept-language': 'en-US,en;q=0.9,fr-FR;q=0.8,fr;q=0.7,ru;q=0.6,de;q=0.5,pt;q=0.4',\n",
    "    }\n",
    "\n",
    "    params = [\n",
    "    ('q', 'from:RERB exclude:replies since:2017-10-04  until:2017-10-05'),\n",
    "    ('src', 'typed_query'),\n",
    "    ('f', 'tweets'),\n",
    "    ('lang', 'fr'),\n",
    "    ]\n",
    "    \n",
    "    params[0] = ('q', 'from:RERB exclude:replies since:'+dates[1]+'  until:'+dates[0])\n",
    "    response = requests.get('https://twitter.com/search', headers=headers, params=params)\n",
    "    return tweets_from_search(response)"
   ]
  },
  {
   "cell_type": "code",
   "execution_count": 36,
   "metadata": {},
   "outputs": [
    {
     "name": "stderr",
     "output_type": "stream",
     "text": [
      "100%|██████████| 30/30 [00:01<00:00, 23.88it/s]\n"
     ]
    }
   ],
   "source": [
    "dates_temp = list(pd.date_range(start='1/1/2019', end='1/31/2019').strftime(\"%Y-%m-%d\"))[::-1]\n",
    "dates = []\n",
    "for i in range(len(dates_temp)-1):\n",
    "    dates.append((dates_temp[i], dates_temp[i+1]))\n",
    "    \n",
    "results = p_map(get_tweets_between, dates)\n",
    "results = [(item[0][0], item[0][1], item[1]) for sublist in results for item in sublist]"
   ]
  },
  {
   "cell_type": "code",
   "execution_count": 39,
   "metadata": {},
   "outputs": [],
   "source": [
    "def get_tweets_rerb_multi(start, end, ncpu):\n",
    "    dates_temp = list(pd.date_range(start=start, end=end).strftime(\"%Y-%m-%d\"))[::-1]\n",
    "    dates = []\n",
    "    for i in range(len(dates_temp)-1):\n",
    "        dates.append((dates_temp[i], dates_temp[i+1]))\n",
    "    pool = mp.Pool(processes=ncpu)\n",
    "    results = pool.map(get_tweets_between, dates)\n",
    "    results = [(item[0][0], item[0][1], item[1]) for sublist in results for item in sublist]\n",
    "    return results"
   ]
  },
  {
   "cell_type": "code",
   "execution_count": 41,
   "metadata": {},
   "outputs": [
    {
     "name": "stdout",
     "output_type": "stream",
     "text": [
      "The slowest run took 4.01 times longer than the fastest. This could mean that an intermediate result is being cached.\n",
      "2.18 s ± 1.41 s per loop (mean ± std. dev. of 7 runs, 1 loop each)\n"
     ]
    }
   ],
   "source": [
    "%timeit get_tweets_rerb_multi(start='1/1/2019', end='1/31/2019', ncpu=16)"
   ]
  },
  {
   "cell_type": "code",
   "execution_count": 42,
   "metadata": {},
   "outputs": [
    {
     "data": {
      "text/plain": [
       "244"
      ]
     },
     "execution_count": 42,
     "metadata": {},
     "output_type": "execute_result"
    }
   ],
   "source": [
    "len(results)"
   ]
  },
  {
   "cell_type": "code",
   "execution_count": 43,
   "metadata": {},
   "outputs": [
    {
     "data": {
      "text/plain": [
       "('1080242629969932290',\n",
       " '02-01-2019 00:21:27',\n",
       " '00:19, le trafic est interrompu entre Denfert et Laplace. Reprise estimée à 01:30. (accident grave de personne)  #RERB')"
      ]
     },
     "execution_count": 43,
     "metadata": {},
     "output_type": "execute_result"
    }
   ],
   "source": [
    "results[-1]"
   ]
  },
  {
   "cell_type": "code",
   "execution_count": 44,
   "metadata": {},
   "outputs": [
    {
     "data": {
      "text/plain": [
       "('1090330404844916737',\n",
       " '29-01-2019 20:26:40',\n",
       " \"(Panne de signalisation au Parc des Expositions): fin d'incident, le trafic reprend progressivement entre les gares de l'aéroport Charles-de-Gaulle et Aulnay. Le trafic #RERB reste perturbé sur l'ensemble de la ligne\")"
      ]
     },
     "execution_count": 44,
     "metadata": {},
     "output_type": "execute_result"
    }
   ],
   "source": [
    "results[2]"
   ]
  },
  {
   "cell_type": "markdown",
   "metadata": {},
   "source": [
    "# II. Toutes lignes confondues"
   ]
  },
  {
   "cell_type": "code",
   "execution_count": 5,
   "metadata": {},
   "outputs": [],
   "source": [
    "def get_tweets_handle_between(handle, dates):\n",
    "    headers = {\n",
    "    'authority': 'twitter.com',\n",
    "    'dnt': '1',\n",
    "    'upgrade-insecure-requests': '1',\n",
    "    'user-agent': 'Mozilla/5.0 (Macintosh; Intel Mac OS X 10_15_1) AppleWebKit/537.36 (KHTML, like Gecko) Chrome/78.0.3904.108 Safari/537.36',\n",
    "    'accept': 'text/html,application/xhtml+xml,application/xml;q=0.9,image/webp,image/apng,*/*;q=0.8,application/signed-exchange;v=b3',\n",
    "    'sec-fetch-site': 'none',\n",
    "    'sec-fetch-mode': 'navigate',\n",
    "    'accept-encoding': 'gzip, deflate, br',\n",
    "    'accept-language': 'en-US,en;q=0.9,fr-FR;q=0.8,fr;q=0.7,ru;q=0.6,de;q=0.5,pt;q=0.4',\n",
    "    }\n",
    "\n",
    "    params = [\n",
    "    ('q', 'from:RERB exclude:replies since:2017-10-04  until:2017-10-05'),\n",
    "    ('src', 'typed_query'),\n",
    "    ('f', 'tweets'),\n",
    "    ('lang', 'fr'),\n",
    "    ]\n",
    "    \n",
    "    params[0] = ('q', 'from:'+handle+' exclude:replies since:'+dates[1]+'  until:'+dates[0])\n",
    "    response = requests.get('https://twitter.com/search', headers=headers, params=params)\n",
    "    return get_tweets(response)"
   ]
  },
  {
   "cell_type": "code",
   "execution_count": 15,
   "metadata": {},
   "outputs": [
    {
     "name": "stdout",
     "output_type": "stream",
     "text": [
      "rer_a done\n"
     ]
    },
    {
     "name": "stderr",
     "output_type": "stream",
     "text": [
      "/Users/gabrielromon/.pyenv/versions/3.6.8/envs/ml-3.6.8/lib/python3.6/site-packages/ipykernel_launcher.py:16: FutureWarning: Sorting because non-concatenation axis is not aligned. A future version\n",
      "of pandas will change to not sort by default.\n",
      "\n",
      "To accept the future behavior, pass 'sort=False'.\n",
      "\n",
      "To retain the current behavior and silence the warning, pass 'sort=True'.\n",
      "\n",
      "  app.launch_new_instance()\n"
     ]
    },
    {
     "name": "stdout",
     "output_type": "stream",
     "text": [
      "rerb done\n",
      "rerc_sncf done\n",
      "rerd_sncf done\n",
      "rere_sncf done\n",
      "ligne1_ratp done\n",
      "ligne2_ratp done\n",
      "ligne3_ratp done\n",
      "ligne4_ratp done\n",
      "ligne5_ratp done\n",
      "ligne6_ratp done\n",
      "ligne7_ratp done\n",
      "ligne8_ratp done\n",
      "ligne9_ratp done\n",
      "ligne10_ratp done\n",
      "ligne11_ratp done\n",
      "ligne12_ratp done\n",
      "ligne13_ratp done\n",
      "ligne14_ratp done\n"
     ]
    }
   ],
   "source": [
    "handles = [\"rer_a\", \"rerb\", \"rerc_sncf\", \"rerd_sncf\", \"rere_sncf\"]+[\"ligne\"+str(i)+\"_ratp\" for i in range(1,15)]\n",
    "df = pd.DataFrame(columns=['id', 'date', 'ligne', 'tweet'])\n",
    "dates_temp = list(pd.date_range(start='1/1/2013', end='12/31/2019').strftime(\"%Y-%m-%d\"))[::-1]\n",
    "dates = []\n",
    "for i in range(len(dates_temp)-1):\n",
    "    dates.append((dates_temp[i], dates_temp[i+1]))\n",
    "                  \n",
    "for handle in handles:\n",
    "    pool = mp.Pool(processes=16)\n",
    "    results = pool.starmap(get_tweets_handle_between, ((handle, date) for date in dates))\n",
    "    results = [(item[0][0], item[0][1], item[1]) for sublist in results for item in sublist]\n",
    "    df_temp = pd.DataFrame(results, columns = ['id', 'date', 'tweet'])\n",
    "    df_temp['ligne'] = handle\n",
    "    df = pd.concat([df, df_temp])\n",
    "    print(handle, 'done')"
   ]
  },
  {
   "cell_type": "code",
   "execution_count": 17,
   "metadata": {},
   "outputs": [],
   "source": [
    "import pickle\n",
    "with open(\"df.pickle\", \"wb\") as f:\n",
    "    pickle.dump(df, f)"
   ]
  },
  {
   "cell_type": "code",
   "execution_count": 46,
   "metadata": {},
   "outputs": [],
   "source": [
    "import pickle\n",
    "with open(\"df.pickle\", \"rb\") as f:\n",
    "    df = pickle.load(f)"
   ]
  },
  {
   "cell_type": "code",
   "execution_count": 47,
   "metadata": {},
   "outputs": [
    {
     "data": {
      "text/html": [
       "<div>\n",
       "<style scoped>\n",
       "    .dataframe tbody tr th:only-of-type {\n",
       "        vertical-align: middle;\n",
       "    }\n",
       "\n",
       "    .dataframe tbody tr th {\n",
       "        vertical-align: top;\n",
       "    }\n",
       "\n",
       "    .dataframe thead th {\n",
       "        text-align: right;\n",
       "    }\n",
       "</style>\n",
       "<table border=\"1\" class=\"dataframe\">\n",
       "  <thead>\n",
       "    <tr style=\"text-align: right;\">\n",
       "      <th></th>\n",
       "      <th>date</th>\n",
       "      <th>id</th>\n",
       "      <th>ligne</th>\n",
       "      <th>tweet</th>\n",
       "    </tr>\n",
       "  </thead>\n",
       "  <tbody>\n",
       "    <tr>\n",
       "      <th>0</th>\n",
       "      <td>07-12-2019 18:14:34</td>\n",
       "      <td>1203362173256421377</td>\n",
       "      <td>rer_a</td>\n",
       "      <td>[Mouvement Social]  Prévisions de trafic pour ...</td>\n",
       "    </tr>\n",
       "    <tr>\n",
       "      <th>1</th>\n",
       "      <td>06-12-2019 19:25:03</td>\n",
       "      <td>1203017524742434817</td>\n",
       "      <td>rer_a</td>\n",
       "      <td>Dernier départ de Nanterre–Préfecture vers Ce...</td>\n",
       "    </tr>\n",
       "    <tr>\n",
       "      <th>2</th>\n",
       "      <td>06-12-2019 19:25:03</td>\n",
       "      <td>1203017524423643137</td>\n",
       "      <td>rer_a</td>\n",
       "      <td>Dernier départ de Nanterre–Préfecture vers Po...</td>\n",
       "    </tr>\n",
       "    <tr>\n",
       "      <th>3</th>\n",
       "      <td>06-12-2019 18:40:04</td>\n",
       "      <td>1203006205289009153</td>\n",
       "      <td>rer_a</td>\n",
       "      <td>Dernier départ de Poissy terminus Nanterre–Pr...</td>\n",
       "    </tr>\n",
       "    <tr>\n",
       "      <th>4</th>\n",
       "      <td>06-12-2019 18:35:04</td>\n",
       "      <td>1203004944753799173</td>\n",
       "      <td>rer_a</td>\n",
       "      <td>Dernier départ de Cergy–Le Haut terminus Nant...</td>\n",
       "    </tr>\n",
       "    <tr>\n",
       "      <th>...</th>\n",
       "      <td>...</td>\n",
       "      <td>...</td>\n",
       "      <td>...</td>\n",
       "      <td>...</td>\n",
       "    </tr>\n",
       "    <tr>\n",
       "      <th>5801</th>\n",
       "      <td>31-01-2013 06:00:57</td>\n",
       "      <td>296845501796610049</td>\n",
       "      <td>ligne14_ratp</td>\n",
       "      <td>la @Ligne6_RATP, la @Ligne12_RATP, la @Ligne13...</td>\n",
       "    </tr>\n",
       "    <tr>\n",
       "      <th>5802</th>\n",
       "      <td>31-01-2013 06:00:31</td>\n",
       "      <td>296845391956172800</td>\n",
       "      <td>ligne14_ratp</td>\n",
       "      <td>Vous pouvez également suivre la @Ligne1_RATP, ...</td>\n",
       "    </tr>\n",
       "    <tr>\n",
       "      <th>5803</th>\n",
       "      <td>31-01-2013 06:00:13</td>\n",
       "      <td>296845315598860289</td>\n",
       "      <td>ligne14_ratp</td>\n",
       "      <td>Ouvert de 6h à 21h, il est animé par les infor...</td>\n",
       "    </tr>\n",
       "    <tr>\n",
       "      <th>5804</th>\n",
       "      <td>31-01-2013 05:59:56</td>\n",
       "      <td>296845245486862336</td>\n",
       "      <td>ligne14_ratp</td>\n",
       "      <td>Ce compte a vocation à vous renseigner sur l’é...</td>\n",
       "    </tr>\n",
       "    <tr>\n",
       "      <th>5805</th>\n",
       "      <td>31-01-2013 05:59:41</td>\n",
       "      <td>296845184099024896</td>\n",
       "      <td>ligne14_ratp</td>\n",
       "      <td>Nous vous souhaitons la bienvenue. La @Ligne14...</td>\n",
       "    </tr>\n",
       "  </tbody>\n",
       "</table>\n",
       "<p>176595 rows × 4 columns</p>\n",
       "</div>"
      ],
      "text/plain": [
       "                     date                   id         ligne  \\\n",
       "0     07-12-2019 18:14:34  1203362173256421377         rer_a   \n",
       "1     06-12-2019 19:25:03  1203017524742434817         rer_a   \n",
       "2     06-12-2019 19:25:03  1203017524423643137         rer_a   \n",
       "3     06-12-2019 18:40:04  1203006205289009153         rer_a   \n",
       "4     06-12-2019 18:35:04  1203004944753799173         rer_a   \n",
       "...                   ...                  ...           ...   \n",
       "5801  31-01-2013 06:00:57   296845501796610049  ligne14_ratp   \n",
       "5802  31-01-2013 06:00:31   296845391956172800  ligne14_ratp   \n",
       "5803  31-01-2013 06:00:13   296845315598860289  ligne14_ratp   \n",
       "5804  31-01-2013 05:59:56   296845245486862336  ligne14_ratp   \n",
       "5805  31-01-2013 05:59:41   296845184099024896  ligne14_ratp   \n",
       "\n",
       "                                                  tweet  \n",
       "0     [Mouvement Social]  Prévisions de trafic pour ...  \n",
       "1      Dernier départ de Nanterre–Préfecture vers Ce...  \n",
       "2      Dernier départ de Nanterre–Préfecture vers Po...  \n",
       "3      Dernier départ de Poissy terminus Nanterre–Pr...  \n",
       "4      Dernier départ de Cergy–Le Haut terminus Nant...  \n",
       "...                                                 ...  \n",
       "5801  la @Ligne6_RATP, la @Ligne12_RATP, la @Ligne13...  \n",
       "5802  Vous pouvez également suivre la @Ligne1_RATP, ...  \n",
       "5803  Ouvert de 6h à 21h, il est animé par les infor...  \n",
       "5804  Ce compte a vocation à vous renseigner sur l’é...  \n",
       "5805  Nous vous souhaitons la bienvenue. La @Ligne14...  \n",
       "\n",
       "[176595 rows x 4 columns]"
      ]
     },
     "execution_count": 47,
     "metadata": {},
     "output_type": "execute_result"
    }
   ],
   "source": [
    "df"
   ]
  },
  {
   "cell_type": "code",
   "execution_count": 48,
   "metadata": {},
   "outputs": [
    {
     "data": {
      "text/html": [
       "<div>\n",
       "<style scoped>\n",
       "    .dataframe tbody tr th:only-of-type {\n",
       "        vertical-align: middle;\n",
       "    }\n",
       "\n",
       "    .dataframe tbody tr th {\n",
       "        vertical-align: top;\n",
       "    }\n",
       "\n",
       "    .dataframe thead th {\n",
       "        text-align: right;\n",
       "    }\n",
       "</style>\n",
       "<table border=\"1\" class=\"dataframe\">\n",
       "  <thead>\n",
       "    <tr style=\"text-align: right;\">\n",
       "      <th></th>\n",
       "      <th>date</th>\n",
       "      <th>id</th>\n",
       "      <th>ligne</th>\n",
       "      <th>tweet</th>\n",
       "    </tr>\n",
       "  </thead>\n",
       "  <tbody>\n",
       "    <tr>\n",
       "      <th>0</th>\n",
       "      <td>07-12-2019 17:00:59</td>\n",
       "      <td>1203343658692558849</td>\n",
       "      <td>rerb</td>\n",
       "      <td>Entre Gare du Nord et Aéroport CDG / Mitry, 1 ...</td>\n",
       "    </tr>\n",
       "    <tr>\n",
       "      <th>1</th>\n",
       "      <td>07-12-2019 17:00:59</td>\n",
       "      <td>1203343658436747266</td>\n",
       "      <td>rerb</td>\n",
       "      <td>Industrial action 08.12 : Massy-Palaiseau/Robi...</td>\n",
       "    </tr>\n",
       "    <tr>\n",
       "      <th>2</th>\n",
       "      <td>07-12-2019 17:00:59</td>\n",
       "      <td>1203343658403188736</td>\n",
       "      <td>rerb</td>\n",
       "      <td>[Mouvement social] \\nTrafic #RERB très forteme...</td>\n",
       "    </tr>\n",
       "    <tr>\n",
       "      <th>3</th>\n",
       "      <td>07-12-2019 12:46:51</td>\n",
       "      <td>1203279701566988289</td>\n",
       "      <td>rerb</td>\n",
       "      <td>[Mouvement social] \\nTrafic #RERB très forteme...</td>\n",
       "    </tr>\n",
       "    <tr>\n",
       "      <th>4</th>\n",
       "      <td>07-12-2019 07:22:20</td>\n",
       "      <td>1203198033502097408</td>\n",
       "      <td>rerb</td>\n",
       "      <td>[Mouvement social] \\nTrafic #RERB samedi 7 déc...</td>\n",
       "    </tr>\n",
       "    <tr>\n",
       "      <th>...</th>\n",
       "      <td>...</td>\n",
       "      <td>...</td>\n",
       "      <td>...</td>\n",
       "      <td>...</td>\n",
       "    </tr>\n",
       "    <tr>\n",
       "      <th>13141</th>\n",
       "      <td>26-08-2013 19:32:58</td>\n",
       "      <td>372049043188236288</td>\n",
       "      <td>rerb</td>\n",
       "      <td>En raison de la présence d'un colis suspect, l...</td>\n",
       "    </tr>\n",
       "    <tr>\n",
       "      <th>13142</th>\n",
       "      <td>26-08-2013 11:24:59</td>\n",
       "      <td>371926237381283840</td>\n",
       "      <td>rerb</td>\n",
       "      <td>Le trafic sera interrompu en semaine à partir ...</td>\n",
       "    </tr>\n",
       "    <tr>\n",
       "      <th>13143</th>\n",
       "      <td>26-08-2013 11:24:20</td>\n",
       "      <td>371926072519954433</td>\n",
       "      <td>rerb</td>\n",
       "      <td>Modernisation du #RERB : dernière semaine de t...</td>\n",
       "    </tr>\n",
       "    <tr>\n",
       "      <th>13144</th>\n",
       "      <td>26-08-2013 06:01:34</td>\n",
       "      <td>371844846735998976</td>\n",
       "      <td>rerb</td>\n",
       "      <td>Abonnez-vous au fil #Twitter @RERB et suivez t...</td>\n",
       "    </tr>\n",
       "    <tr>\n",
       "      <th>13145</th>\n",
       "      <td>26-08-2013 06:01:08</td>\n",
       "      <td>371844736350294016</td>\n",
       "      <td>rerb</td>\n",
       "      <td>Le RER B vous souhaite la bienvenue sur son co...</td>\n",
       "    </tr>\n",
       "  </tbody>\n",
       "</table>\n",
       "<p>13146 rows × 4 columns</p>\n",
       "</div>"
      ],
      "text/plain": [
       "                      date                   id ligne  \\\n",
       "0      07-12-2019 17:00:59  1203343658692558849  rerb   \n",
       "1      07-12-2019 17:00:59  1203343658436747266  rerb   \n",
       "2      07-12-2019 17:00:59  1203343658403188736  rerb   \n",
       "3      07-12-2019 12:46:51  1203279701566988289  rerb   \n",
       "4      07-12-2019 07:22:20  1203198033502097408  rerb   \n",
       "...                    ...                  ...   ...   \n",
       "13141  26-08-2013 19:32:58   372049043188236288  rerb   \n",
       "13142  26-08-2013 11:24:59   371926237381283840  rerb   \n",
       "13143  26-08-2013 11:24:20   371926072519954433  rerb   \n",
       "13144  26-08-2013 06:01:34   371844846735998976  rerb   \n",
       "13145  26-08-2013 06:01:08   371844736350294016  rerb   \n",
       "\n",
       "                                                   tweet  \n",
       "0      Entre Gare du Nord et Aéroport CDG / Mitry, 1 ...  \n",
       "1      Industrial action 08.12 : Massy-Palaiseau/Robi...  \n",
       "2      [Mouvement social] \\nTrafic #RERB très forteme...  \n",
       "3      [Mouvement social] \\nTrafic #RERB très forteme...  \n",
       "4      [Mouvement social] \\nTrafic #RERB samedi 7 déc...  \n",
       "...                                                  ...  \n",
       "13141  En raison de la présence d'un colis suspect, l...  \n",
       "13142  Le trafic sera interrompu en semaine à partir ...  \n",
       "13143  Modernisation du #RERB : dernière semaine de t...  \n",
       "13144  Abonnez-vous au fil #Twitter @RERB et suivez t...  \n",
       "13145  Le RER B vous souhaite la bienvenue sur son co...  \n",
       "\n",
       "[13146 rows x 4 columns]"
      ]
     },
     "execution_count": 48,
     "metadata": {},
     "output_type": "execute_result"
    }
   ],
   "source": [
    "df[df['ligne']=='rerb']"
   ]
  },
  {
   "cell_type": "code",
   "execution_count": 49,
   "metadata": {},
   "outputs": [
    {
     "data": {
      "text/plain": [
       "<matplotlib.axes._subplots.AxesSubplot at 0x121320400>"
      ]
     },
     "execution_count": 49,
     "metadata": {},
     "output_type": "execute_result"
    },
    {
     "data": {
      "image/png": "[encoded data removed]",
      "text/plain": [
       "<Figure size 432x288 with 1 Axes>"
      ]
     },
     "metadata": {
      "needs_background": "light"
     },
     "output_type": "display_data"
    }
   ],
   "source": [
    "df[\"ligne\"].value_counts().plot(kind='bar')"
   ]
  },
  {
   "cell_type": "code",
   "execution_count": 50,
   "metadata": {},
   "outputs": [
    {
     "data": {
      "text/plain": [
       "<matplotlib.axes._subplots.AxesSubplot at 0x123bc0588>"
      ]
     },
     "execution_count": 50,
     "metadata": {},
     "output_type": "execute_result"
    },
    {
     "data": {
      "image/png": "[encoded data removed]",
      "text/plain": [
       "<Figure size 432x288 with 1 Axes>"
      ]
     },
     "metadata": {
      "needs_background": "light"
     },
     "output_type": "display_data"
    }
   ],
   "source": [
    "df[df['tweet'].str.contains('[Rr]epris', regex=True)][\"ligne\"].value_counts().plot(kind='bar')"
   ]
  },
  {
   "cell_type": "code",
   "execution_count": 51,
   "metadata": {},
   "outputs": [
    {
     "data": {
      "text/plain": [
       "<matplotlib.axes._subplots.AxesSubplot at 0x123ce8668>"
      ]
     },
     "execution_count": 51,
     "metadata": {},
     "output_type": "execute_result"
    },
    {
     "data": {
      "image/png": "[encoded data removed]",
      "text/plain": [
       "<Figure size 432x288 with 1 Axes>"
      ]
     },
     "metadata": {
      "needs_background": "light"
     },
     "output_type": "display_data"
    }
   ],
   "source": [
    "df[df['tweet'].str.contains('[Ii]nterrompu', regex=True)][\"ligne\"].value_counts().plot(kind='bar')"
   ]
  },
  {
   "cell_type": "code",
   "execution_count": 52,
   "metadata": {},
   "outputs": [
    {
     "data": {
      "text/plain": [
       "<matplotlib.axes._subplots.AxesSubplot at 0x123d1def0>"
      ]
     },
     "execution_count": 52,
     "metadata": {},
     "output_type": "execute_result"
    },
    {
     "data": {
      "image/png": "[encoded data removed]",
      "text/plain": [
       "<Figure size 432x288 with 1 Axes>"
      ]
     },
     "metadata": {
      "needs_background": "light"
     },
     "output_type": "display_data"
    }
   ],
   "source": [
    "df[df['tweet'].str.contains('[Ii]ncident', regex=True)][\"ligne\"].value_counts().plot(kind='bar')"
   ]
  },
  {
   "cell_type": "code",
   "execution_count": 53,
   "metadata": {},
   "outputs": [
    {
     "data": {
      "text/plain": [
       "<matplotlib.axes._subplots.AxesSubplot at 0x123e72e48>"
      ]
     },
     "execution_count": 53,
     "metadata": {},
     "output_type": "execute_result"
    },
    {
     "data": {
      "image/png": "[encoded data removed]",
      "text/plain": [
       "<Figure size 432x288 with 1 Axes>"
      ]
     },
     "metadata": {
      "needs_background": "light"
     },
     "output_type": "display_data"
    }
   ],
   "source": [
    "df[df['tweet'].str.contains('[Mm]alaise voyageur', regex=True)][\"ligne\"].value_counts().plot(kind='bar')"
   ]
  }
 ],
 "metadata": {
  "kernelspec": {
   "display_name": "Python 3",
   "language": "python",
   "name": "python3"
  },
  "language_info": {
   "codemirror_mode": {
    "name": "ipython",
    "version": 3
   },
   "file_extension": ".py",
   "mimetype": "text/x-python",
   "name": "python",
   "nbconvert_exporter": "python",
   "pygments_lexer": "ipython3",
   "version": "3.6.8"
  }
 },
 "nbformat": 4,
 "nbformat_minor": 4
}
