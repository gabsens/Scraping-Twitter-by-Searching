{
 "cells": [
  {
   "cell_type": "code",
   "execution_count": 1,
   "metadata": {},
   "outputs": [],
   "source": [
    "import pandas as pd\n",
    "from bs4 import BeautifulSoup\n",
    "import tqdm\n",
    "import requests\n",
    "import multiprocessing as mp\n",
    "from p_tqdm import p_map\n",
    "import time\n",
    "%matplotlib inline"
   ]
  },
  {
   "cell_type": "code",
   "execution_count": 2,
   "metadata": {},
   "outputs": [],
   "source": [
    "from random_user_agent.user_agent import UserAgent\n",
    "from random_user_agent.params import SoftwareName, OperatingSystem, Popularity\n",
    "\n",
    "software_names = [SoftwareName.CHROME.value]\n",
    "operating_systems = [OperatingSystem.WINDOWS.value, OperatingSystem.LINUX.value]   \n",
    "popularity = [Popularity.POPULAR.value]\n",
    "user_agent_rotator = UserAgent(software_names=software_names, operating_systems=operating_systems, popularity=popularity, limit=10)\n",
    "\n",
    "user_agents = [item['user_agent'] for item in user_agent_rotator.get_user_agents()]\n",
    "uagent = user_agents[0]"
   ]
  },
  {
   "cell_type": "code",
   "execution_count": 3,
   "metadata": {},
   "outputs": [],
   "source": [
    "def epoch_to_local(timestr):\n",
    "    return time.strftime('%d-%m-%Y %H:%M:%S', time.localtime(int(timestr))) #matches tweets' time as long as user is on CET time\n",
    "\n",
    "def tweets_from_search(response):\n",
    "    soup = BeautifulSoup(response.text, 'html.parser')\n",
    "    metadata = [(item[\"data-conversation-id\"], epoch_to_local(item.span[\"data-time\"]))\\\n",
    "                for item in soup.find_all(\"a\", class_=\"tweet-timestamp js-permalink js-nav js-tooltip\")]\n",
    "    text = [item.getText() for item in soup.find_all(\"p\", class_=\"TweetTextSize js-tweet-text tweet-text\")]\n",
    "    return list(zip(metadata, text))"
   ]
  },
  {
   "cell_type": "markdown",
   "metadata": {},
   "source": [
    "# I. RER B"
   ]
  },
  {
   "cell_type": "markdown",
   "metadata": {},
   "source": [
    "## a) Single Thread"
   ]
  },
  {
   "cell_type": "markdown",
   "metadata": {},
   "source": [
    "The next cell returns False if your combination of IP+user-agent is shadowbanned by Twitter."
   ]
  },
  {
   "cell_type": "code",
   "execution_count": 4,
   "metadata": {},
   "outputs": [
    {
     "data": {
      "text/plain": [
       "True"
      ]
     },
     "execution_count": 4,
     "metadata": {},
     "output_type": "execute_result"
    }
   ],
   "source": [
    "headers = {\n",
    "    'authority': 'twitter.com',\n",
    "    'dnt': '1',\n",
    "    'upgrade-insecure-requests': '1',\n",
    "    'user-agent': uagent,\n",
    "    'accept': 'text/html,application/xhtml+xml,application/xml;q=0.9,image/webp,image/apng,*/*;q=0.8,application/signed-exchange;v=b3',\n",
    "    'sec-fetch-site': 'none',\n",
    "    'sec-fetch-mode': 'navigate',\n",
    "    'accept-encoding': 'gzip, deflate, br',\n",
    "    'accept-language': 'en-US,en;q=0.9,fr-FR;q=0.8,fr;q=0.7,ru;q=0.6,de;q=0.5,pt;q=0.4',\n",
    "}\n",
    "\n",
    "params = [\n",
    "    ('q', 'from:RERB exclude:replies since:2017-10-04  until:2017-10-05'),\n",
    "    ('src', 'typed_query'),\n",
    "    ('f', 'tweets'),\n",
    "    ('lang', 'fr'),\n",
    "]\n",
    "\n",
    "response = requests.get('https://twitter.com/search', headers=headers, params=params)\n",
    "soup = BeautifulSoup(response.text, 'html.parser')\n",
    "bool(soup.find_all(\"p\", class_=\"TweetTextSize js-tweet-text tweet-text\"))"
   ]
  },
  {
   "cell_type": "code",
   "execution_count": 63,
   "metadata": {},
   "outputs": [
    {
     "name": "stderr",
     "output_type": "stream",
     "text": [
      "100%|██████████| 30/30 [00:18<00:00,  1.64it/s]\n"
     ]
    }
   ],
   "source": [
    "dates = list(pd.date_range(start='1/1/2019', end='1/31/2019').strftime(\"%Y-%m-%d\"))[::-1]\n",
    "out = []\n",
    "for i in tqdm(range(len(dates)-1)):\n",
    "    params[0] = ('q', 'from:RERB exclude:replies since:'+dates[i+1]+'  until:'+dates[i])\n",
    "    response = requests.get('https://twitter.com/search', headers=headers, params=params)\n",
    "    out = out + tweets_from_search(response)"
   ]
  },
  {
   "cell_type": "code",
   "execution_count": 31,
   "metadata": {},
   "outputs": [],
   "source": [
    "def get_tweets_rerb_single(start, end):\n",
    "    dates = list(pd.date_range(start=start, end=end).strftime(\"%Y-%m-%d\"))[::-1]\n",
    "    out = []\n",
    "    for i in range(len(dates)-1):\n",
    "        params[0] = ('q', 'from:RERB exclude:replies since:'+dates[i+1]+'  until:'+dates[i])\n",
    "        response = requests.get('https://twitter.com/search', headers=headers, params=params)\n",
    "        out = out + tweets_from_search(response)\n",
    "    return out"
   ]
  },
  {
   "cell_type": "code",
   "execution_count": 34,
   "metadata": {},
   "outputs": [
    {
     "name": "stdout",
     "output_type": "stream",
     "text": [
      "22 s ± 8.44 s per loop (mean ± std. dev. of 7 runs, 1 loop each)\n"
     ]
    }
   ],
   "source": [
    "%timeit get_tweets_rerb_single(start='1/1/2019', end='1/31/2019')"
   ]
  },
  {
   "cell_type": "markdown",
   "metadata": {},
   "source": [
    "## b) Multi-thread"
   ]
  },
  {
   "cell_type": "code",
   "execution_count": 98,
   "metadata": {},
   "outputs": [],
   "source": [
    "def get_tweets_between(dates, uagent): #dates=(date0, date1) where date0 > date1. Choosing consecutive days prevents omissions from missing scrolling\n",
    "    headers = {\n",
    "    'authority': 'twitter.com',\n",
    "    'dnt': '1',\n",
    "    'upgrade-insecure-requests': '1',\n",
    "    'user-agent': uagent,\n",
    "    'accept': 'text/html,application/xhtml+xml,application/xml;q=0.9,image/webp,image/apng,*/*;q=0.8,application/signed-exchange;v=b3',\n",
    "    'sec-fetch-site': 'none',\n",
    "    'sec-fetch-mode': 'navigate',\n",
    "    'accept-encoding': 'gzip, deflate, br',\n",
    "    'accept-language': 'en-US,en;q=0.9,fr-FR;q=0.8,fr;q=0.7,ru;q=0.6,de;q=0.5,pt;q=0.4',\n",
    "    }\n",
    "\n",
    "    params = [\n",
    "    ('q', 'from:RERB exclude:replies since:2017-10-04  until:2017-10-05'),\n",
    "    ('src', 'typed_query'),\n",
    "    ('f', 'tweets'),\n",
    "    ('lang', 'fr'),\n",
    "    ]\n",
    "    \n",
    "    params[0] = ('q', 'from:RERB exclude:replies since:'+dates[1]+'  until:'+dates[0])\n",
    "    response = requests.get('https://twitter.com/search', headers=headers, params=params)\n",
    "    return tweets_from_search(response)"
   ]
  },
  {
   "cell_type": "code",
   "execution_count": 101,
   "metadata": {},
   "outputs": [
    {
     "name": "stderr",
     "output_type": "stream",
     "text": [
      "\n",
      "\n",
      "  0%|          | 0/30 [00:00<?, ?it/s]\u001b[A\u001b[A\n",
      "\n",
      "  3%|▎         | 1/30 [00:00<00:25,  1.14it/s]\u001b[A\u001b[A\n",
      "\n",
      " 53%|█████▎    | 16/30 [00:01<00:08,  1.63it/s]\u001b[A\u001b[A\n",
      "\n",
      " 67%|██████▋   | 20/30 [00:01<00:04,  2.24it/s]\u001b[A\u001b[A\n",
      "\n",
      "100%|██████████| 30/30 [00:01<00:00, 21.49it/s]\u001b[A\u001b[A\n"
     ]
    }
   ],
   "source": [
    "dates_temp = list(pd.date_range(start='1/1/2019', end='1/31/2019').strftime(\"%Y-%m-%d\"))[::-1]\n",
    "dates = []\n",
    "for i in range(len(dates_temp)-1):\n",
    "    dates.append((dates_temp[i], dates_temp[i+1]))\n",
    "    \n",
    "results = p_map(get_tweets_between, dates, uagent)\n",
    "results = [(item[0][0], item[0][1], item[1]) for sublist in results for item in sublist]"
   ]
  },
  {
   "cell_type": "code",
   "execution_count": 39,
   "metadata": {},
   "outputs": [],
   "source": [
    "def get_tweets_rerb_multi(start, end, ncpu):\n",
    "    dates_temp = list(pd.date_range(start=start, end=end).strftime(\"%Y-%m-%d\"))[::-1]\n",
    "    dates = []\n",
    "    for i in range(len(dates_temp)-1):\n",
    "        dates.append((dates_temp[i], dates_temp[i+1]))\n",
    "    pool = mp.Pool(processes=ncpu)\n",
    "    results = pool.map(get_tweets_between, dates)\n",
    "    results = [(item[0][0], item[0][1], item[1]) for sublist in results for item in sublist]\n",
    "    return results"
   ]
  },
  {
   "cell_type": "code",
   "execution_count": 41,
   "metadata": {},
   "outputs": [
    {
     "name": "stdout",
     "output_type": "stream",
     "text": [
      "The slowest run took 4.01 times longer than the fastest. This could mean that an intermediate result is being cached.\n",
      "2.18 s ± 1.41 s per loop (mean ± std. dev. of 7 runs, 1 loop each)\n"
     ]
    }
   ],
   "source": [
    "%timeit get_tweets_rerb_multi(start='1/1/2019', end='1/31/2019', ncpu=16)"
   ]
  },
  {
   "cell_type": "code",
   "execution_count": 42,
   "metadata": {},
   "outputs": [
    {
     "data": {
      "text/plain": [
       "244"
      ]
     },
     "execution_count": 42,
     "metadata": {},
     "output_type": "execute_result"
    }
   ],
   "source": [
    "len(results)"
   ]
  },
  {
   "cell_type": "code",
   "execution_count": 43,
   "metadata": {},
   "outputs": [
    {
     "data": {
      "text/plain": [
       "('1080242629969932290',\n",
       " '02-01-2019 00:21:27',\n",
       " '00:19, le trafic est interrompu entre Denfert et Laplace. Reprise estimée à 01:30. (accident grave de personne)  #RERB')"
      ]
     },
     "execution_count": 43,
     "metadata": {},
     "output_type": "execute_result"
    }
   ],
   "source": [
    "results[-1]"
   ]
  },
  {
   "cell_type": "code",
   "execution_count": 44,
   "metadata": {},
   "outputs": [
    {
     "data": {
      "text/plain": [
       "('1090330404844916737',\n",
       " '29-01-2019 20:26:40',\n",
       " \"(Panne de signalisation au Parc des Expositions): fin d'incident, le trafic reprend progressivement entre les gares de l'aéroport Charles-de-Gaulle et Aulnay. Le trafic #RERB reste perturbé sur l'ensemble de la ligne\")"
      ]
     },
     "execution_count": 44,
     "metadata": {},
     "output_type": "execute_result"
    }
   ],
   "source": [
    "results[2]"
   ]
  },
  {
   "cell_type": "markdown",
   "metadata": {},
   "source": [
    "# II. Toutes lignes confondues"
   ]
  },
  {
   "cell_type": "code",
   "execution_count": 8,
   "metadata": {},
   "outputs": [],
   "source": [
    "def get_tweets_handle_between(tupl):\n",
    "    (handle, dates, uagent) = tupl\n",
    "    headers = {\n",
    "    'authority': 'twitter.com',\n",
    "    'dnt': '1',\n",
    "    'upgrade-insecure-requests': '1',\n",
    "    'user-agent': uagent,\n",
    "    'accept': 'text/html,application/xhtml+xml,application/xml;q=0.9,image/webp,image/apng,*/*;q=0.8,application/signed-exchange;v=b3',\n",
    "    'sec-fetch-site': 'none',\n",
    "    'sec-fetch-mode': 'navigate',\n",
    "    'accept-encoding': 'gzip, deflate, br',\n",
    "    'accept-language': 'en-US,en;q=0.9,fr-FR;q=0.8,fr;q=0.7,ru;q=0.6,de;q=0.5,pt;q=0.4',\n",
    "    }\n",
    "\n",
    "    params = [\n",
    "    ('q', 'from:RERB exclude:replies since:2017-10-04  until:2017-10-05'),\n",
    "    ('src', 'typed_query'),\n",
    "    ('f', 'tweets'),\n",
    "    ('lang', 'fr'),\n",
    "    ]\n",
    "    \n",
    "    params[0] = ('q', 'from:'+handle+' exclude:replies since:'+dates[1]+'  until:'+dates[0])\n",
    "    response = requests.get('https://twitter.com/search', headers=headers, params=params)\n",
    "    return tweets_from_search(response)"
   ]
  },
  {
   "cell_type": "code",
   "execution_count": 9,
   "metadata": {},
   "outputs": [
    {
     "name": "stderr",
     "output_type": "stream",
     "text": [
      "/Users/gabrielromon/.pyenv/versions/3.6.8/envs/ml-3.6.8/lib/python3.6/site-packages/ipykernel_launcher.py:11: TqdmDeprecationWarning: This function will be removed in tqdm==5.0.0\n",
      "Please use `tqdm.notebook.tqdm` instead of `tqdm.tqdm_notebook`\n",
      "  # This is added back by InteractiveShellApp.init_path()\n"
     ]
    },
    {
     "data": {
      "application/vnd.jupyter.widget-view+json": {
       "model_id": "b0449193627a4acda34fd09e69e10bd6",
       "version_major": 2,
       "version_minor": 0
      },
      "text/plain": [
       "HBox(children=(FloatProgress(value=0.0, max=2555.0), HTML(value='')))"
      ]
     },
     "metadata": {},
     "output_type": "display_data"
    },
    {
     "name": "stdout",
     "output_type": "stream",
     "text": [
      "\n",
      "rer_a done\n"
     ]
    },
    {
     "name": "stderr",
     "output_type": "stream",
     "text": [
      "/Users/gabrielromon/.pyenv/versions/3.6.8/envs/ml-3.6.8/lib/python3.6/site-packages/ipykernel_launcher.py:16: FutureWarning: Sorting because non-concatenation axis is not aligned. A future version\n",
      "of pandas will change to not sort by default.\n",
      "\n",
      "To accept the future behavior, pass 'sort=False'.\n",
      "\n",
      "To retain the current behavior and silence the warning, pass 'sort=True'.\n",
      "\n",
      "  app.launch_new_instance()\n"
     ]
    },
    {
     "data": {
      "application/vnd.jupyter.widget-view+json": {
       "model_id": "5e91545f6a644ddd95e275158a3982d0",
       "version_major": 2,
       "version_minor": 0
      },
      "text/plain": [
       "HBox(children=(FloatProgress(value=0.0, max=2555.0), HTML(value='')))"
      ]
     },
     "metadata": {},
     "output_type": "display_data"
    },
    {
     "name": "stdout",
     "output_type": "stream",
     "text": [
      "\n",
      "rerb done\n"
     ]
    },
    {
     "data": {
      "application/vnd.jupyter.widget-view+json": {
       "model_id": "cb1ef6ef63fb4d34822816e5ec3c8fb4",
       "version_major": 2,
       "version_minor": 0
      },
      "text/plain": [
       "HBox(children=(FloatProgress(value=0.0, max=2555.0), HTML(value='')))"
      ]
     },
     "metadata": {},
     "output_type": "display_data"
    },
    {
     "name": "stdout",
     "output_type": "stream",
     "text": [
      "\n",
      "rerc_sncf done\n"
     ]
    },
    {
     "data": {
      "application/vnd.jupyter.widget-view+json": {
       "model_id": "0c1611c486e84e46973eec37b4dd2bd3",
       "version_major": 2,
       "version_minor": 0
      },
      "text/plain": [
       "HBox(children=(FloatProgress(value=0.0, max=2555.0), HTML(value='')))"
      ]
     },
     "metadata": {},
     "output_type": "display_data"
    },
    {
     "name": "stdout",
     "output_type": "stream",
     "text": [
      "\n",
      "rerd_sncf done\n"
     ]
    },
    {
     "data": {
      "application/vnd.jupyter.widget-view+json": {
       "model_id": "8b8d93666c71413da50714d615284592",
       "version_major": 2,
       "version_minor": 0
      },
      "text/plain": [
       "HBox(children=(FloatProgress(value=0.0, max=2555.0), HTML(value='')))"
      ]
     },
     "metadata": {},
     "output_type": "display_data"
    },
    {
     "name": "stdout",
     "output_type": "stream",
     "text": [
      "\n",
      "rere_sncf done\n"
     ]
    },
    {
     "data": {
      "application/vnd.jupyter.widget-view+json": {
       "model_id": "fb90c78b621147e68ea43ac31562f537",
       "version_major": 2,
       "version_minor": 0
      },
      "text/plain": [
       "HBox(children=(FloatProgress(value=0.0, max=2555.0), HTML(value='')))"
      ]
     },
     "metadata": {},
     "output_type": "display_data"
    },
    {
     "name": "stdout",
     "output_type": "stream",
     "text": [
      "\n",
      "ligne1_ratp done\n"
     ]
    },
    {
     "data": {
      "application/vnd.jupyter.widget-view+json": {
       "model_id": "42010976840346d2b2581a2c467c4df1",
       "version_major": 2,
       "version_minor": 0
      },
      "text/plain": [
       "HBox(children=(FloatProgress(value=0.0, max=2555.0), HTML(value='')))"
      ]
     },
     "metadata": {},
     "output_type": "display_data"
    },
    {
     "name": "stdout",
     "output_type": "stream",
     "text": [
      "\n",
      "ligne2_ratp done\n"
     ]
    },
    {
     "data": {
      "application/vnd.jupyter.widget-view+json": {
       "model_id": "1a0a7f9dbb6e4e369be802b307b3b212",
       "version_major": 2,
       "version_minor": 0
      },
      "text/plain": [
       "HBox(children=(FloatProgress(value=0.0, max=2555.0), HTML(value='')))"
      ]
     },
     "metadata": {},
     "output_type": "display_data"
    },
    {
     "name": "stdout",
     "output_type": "stream",
     "text": [
      "\n",
      "ligne3_ratp done\n"
     ]
    },
    {
     "data": {
      "application/vnd.jupyter.widget-view+json": {
       "model_id": "85dd03976c0f40db9a98b0819607dd15",
       "version_major": 2,
       "version_minor": 0
      },
      "text/plain": [
       "HBox(children=(FloatProgress(value=0.0, max=2555.0), HTML(value='')))"
      ]
     },
     "metadata": {},
     "output_type": "display_data"
    },
    {
     "name": "stdout",
     "output_type": "stream",
     "text": [
      "\n",
      "ligne4_ratp done\n"
     ]
    },
    {
     "data": {
      "application/vnd.jupyter.widget-view+json": {
       "model_id": "3c5d51781f644f7ea4d6a0f4cbbbebc1",
       "version_major": 2,
       "version_minor": 0
      },
      "text/plain": [
       "HBox(children=(FloatProgress(value=0.0, max=2555.0), HTML(value='')))"
      ]
     },
     "metadata": {},
     "output_type": "display_data"
    },
    {
     "name": "stdout",
     "output_type": "stream",
     "text": [
      "\n",
      "ligne5_ratp done\n"
     ]
    },
    {
     "data": {
      "application/vnd.jupyter.widget-view+json": {
       "model_id": "de33669b6c144e66b551203abe60000d",
       "version_major": 2,
       "version_minor": 0
      },
      "text/plain": [
       "HBox(children=(FloatProgress(value=0.0, max=2555.0), HTML(value='')))"
      ]
     },
     "metadata": {},
     "output_type": "display_data"
    },
    {
     "name": "stdout",
     "output_type": "stream",
     "text": [
      "\n",
      "ligne6_ratp done\n"
     ]
    },
    {
     "data": {
      "application/vnd.jupyter.widget-view+json": {
       "model_id": "056ccd62d2c64b3ab841b40fa29769dd",
       "version_major": 2,
       "version_minor": 0
      },
      "text/plain": [
       "HBox(children=(FloatProgress(value=0.0, max=2555.0), HTML(value='')))"
      ]
     },
     "metadata": {},
     "output_type": "display_data"
    },
    {
     "name": "stdout",
     "output_type": "stream",
     "text": [
      "\n",
      "ligne7_ratp done\n"
     ]
    },
    {
     "data": {
      "application/vnd.jupyter.widget-view+json": {
       "model_id": "a745587abcd740fabe583aaa5d8f96ae",
       "version_major": 2,
       "version_minor": 0
      },
      "text/plain": [
       "HBox(children=(FloatProgress(value=0.0, max=2555.0), HTML(value='')))"
      ]
     },
     "metadata": {},
     "output_type": "display_data"
    },
    {
     "name": "stdout",
     "output_type": "stream",
     "text": [
      "\n",
      "ligne8_ratp done\n"
     ]
    },
    {
     "data": {
      "application/vnd.jupyter.widget-view+json": {
       "model_id": "887fdcd3b9a1412bbddf5d0e1f7fe580",
       "version_major": 2,
       "version_minor": 0
      },
      "text/plain": [
       "HBox(children=(FloatProgress(value=0.0, max=2555.0), HTML(value='')))"
      ]
     },
     "metadata": {},
     "output_type": "display_data"
    },
    {
     "name": "stdout",
     "output_type": "stream",
     "text": [
      "\n",
      "ligne9_ratp done\n"
     ]
    },
    {
     "data": {
      "application/vnd.jupyter.widget-view+json": {
       "model_id": "de8f02ad67834a238200a4664ca9d2b2",
       "version_major": 2,
       "version_minor": 0
      },
      "text/plain": [
       "HBox(children=(FloatProgress(value=0.0, max=2555.0), HTML(value='')))"
      ]
     },
     "metadata": {},
     "output_type": "display_data"
    },
    {
     "name": "stdout",
     "output_type": "stream",
     "text": [
      "\n",
      "ligne10_ratp done\n"
     ]
    },
    {
     "data": {
      "application/vnd.jupyter.widget-view+json": {
       "model_id": "5485f2fdd50f4e04b3d21b972cf9ca65",
       "version_major": 2,
       "version_minor": 0
      },
      "text/plain": [
       "HBox(children=(FloatProgress(value=0.0, max=2555.0), HTML(value='')))"
      ]
     },
     "metadata": {},
     "output_type": "display_data"
    },
    {
     "name": "stdout",
     "output_type": "stream",
     "text": [
      "\n",
      "ligne11_ratp done\n"
     ]
    },
    {
     "data": {
      "application/vnd.jupyter.widget-view+json": {
       "model_id": "d952ef2a17f64e8da4fa7dd98841c9b7",
       "version_major": 2,
       "version_minor": 0
      },
      "text/plain": [
       "HBox(children=(FloatProgress(value=0.0, max=2555.0), HTML(value='')))"
      ]
     },
     "metadata": {},
     "output_type": "display_data"
    },
    {
     "name": "stdout",
     "output_type": "stream",
     "text": [
      "\n",
      "ligne12_ratp done\n"
     ]
    },
    {
     "data": {
      "application/vnd.jupyter.widget-view+json": {
       "model_id": "ad6336fec20b4cca88687e0962a25271",
       "version_major": 2,
       "version_minor": 0
      },
      "text/plain": [
       "HBox(children=(FloatProgress(value=0.0, max=2555.0), HTML(value='')))"
      ]
     },
     "metadata": {},
     "output_type": "display_data"
    },
    {
     "name": "stdout",
     "output_type": "stream",
     "text": [
      "\n",
      "ligne13_ratp done\n"
     ]
    },
    {
     "data": {
      "application/vnd.jupyter.widget-view+json": {
       "model_id": "71e9901b6b2140398395ff9e4a43a02d",
       "version_major": 2,
       "version_minor": 0
      },
      "text/plain": [
       "HBox(children=(FloatProgress(value=0.0, max=2555.0), HTML(value='')))"
      ]
     },
     "metadata": {},
     "output_type": "display_data"
    },
    {
     "name": "stdout",
     "output_type": "stream",
     "text": [
      "\n",
      "ligne14_ratp done\n"
     ]
    }
   ],
   "source": [
    "handles = [\"rer_a\", \"rerb\", \"rerc_sncf\", \"rerd_sncf\", \"rere_sncf\"]+[\"ligne\"+str(i)+\"_ratp\" for i in range(1,15)]\n",
    "df = pd.DataFrame(columns=['id', 'date', 'ligne', 'tweet'])\n",
    "dates_temp = list(pd.date_range(start='1/1/2013', end='12/31/2019').strftime(\"%Y-%m-%d\"))[::-1]\n",
    "dates = []\n",
    "for i in range(len(dates_temp)-1):\n",
    "    dates.append((dates_temp[i], dates_temp[i+1]))\n",
    "                  \n",
    "for handle in handles:\n",
    "    pool = mp.Pool(processes=16)\n",
    "    to_process = [(handle, date, uagent) for date in dates]\n",
    "    results = list(tqdm.tqdm_notebook(pool.imap(get_tweets_handle_between, to_process), total=len(to_process)))\n",
    "    #results = pool.map(get_tweets_handle_between, ((handle, date, uagent) for date in dates))\n",
    "    results = [(item[0][0], item[0][1], item[1]) for sublist in results for item in sublist]\n",
    "    df_temp = pd.DataFrame(results, columns = ['id', 'date', 'tweet'])\n",
    "    df_temp['ligne'] = handle\n",
    "    df = pd.concat([df, df_temp])\n",
    "    print(handle, 'done')\n",
    "df = df.reset_index()"
   ]
  },
  {
   "cell_type": "code",
   "execution_count": 11,
   "metadata": {},
   "outputs": [],
   "source": [
    "import pickle\n",
    "with open(\"df.pickle\", \"wb\") as f:\n",
    "    pickle.dump(df, f)"
   ]
  },
  {
   "cell_type": "code",
   "execution_count": 12,
   "metadata": {},
   "outputs": [],
   "source": [
    "import pickle\n",
    "with open(\"df.pickle\", \"rb\") as f:\n",
    "    df = pickle.load(f)"
   ]
  },
  {
   "cell_type": "code",
   "execution_count": 13,
   "metadata": {},
   "outputs": [
    {
     "data": {
      "text/html": [
       "<div>\n",
       "<style scoped>\n",
       "    .dataframe tbody tr th:only-of-type {\n",
       "        vertical-align: middle;\n",
       "    }\n",
       "\n",
       "    .dataframe tbody tr th {\n",
       "        vertical-align: top;\n",
       "    }\n",
       "\n",
       "    .dataframe thead th {\n",
       "        text-align: right;\n",
       "    }\n",
       "</style>\n",
       "<table border=\"1\" class=\"dataframe\">\n",
       "  <thead>\n",
       "    <tr style=\"text-align: right;\">\n",
       "      <th></th>\n",
       "      <th>index</th>\n",
       "      <th>date</th>\n",
       "      <th>id</th>\n",
       "      <th>ligne</th>\n",
       "      <th>tweet</th>\n",
       "    </tr>\n",
       "  </thead>\n",
       "  <tbody>\n",
       "    <tr>\n",
       "      <th>0</th>\n",
       "      <td>0</td>\n",
       "      <td>08-12-2019 17:41:29</td>\n",
       "      <td>1203716235441123333</td>\n",
       "      <td>rer_a</td>\n",
       "      <td>[Mouvement Social]  Prévisions de trafic pour ...</td>\n",
       "    </tr>\n",
       "    <tr>\n",
       "      <th>1</th>\n",
       "      <td>1</td>\n",
       "      <td>07-12-2019 18:14:34</td>\n",
       "      <td>1203362173256421377</td>\n",
       "      <td>rer_a</td>\n",
       "      <td>[Mouvement Social]  Prévisions de trafic pour ...</td>\n",
       "    </tr>\n",
       "    <tr>\n",
       "      <th>2</th>\n",
       "      <td>2</td>\n",
       "      <td>06-12-2019 19:25:03</td>\n",
       "      <td>1203017524742434817</td>\n",
       "      <td>rer_a</td>\n",
       "      <td>Dernier départ de Nanterre–Préfecture vers Ce...</td>\n",
       "    </tr>\n",
       "    <tr>\n",
       "      <th>3</th>\n",
       "      <td>3</td>\n",
       "      <td>06-12-2019 19:25:03</td>\n",
       "      <td>1203017524423643137</td>\n",
       "      <td>rer_a</td>\n",
       "      <td>Dernier départ de Nanterre–Préfecture vers Po...</td>\n",
       "    </tr>\n",
       "    <tr>\n",
       "      <th>4</th>\n",
       "      <td>4</td>\n",
       "      <td>06-12-2019 18:40:04</td>\n",
       "      <td>1203006205289009153</td>\n",
       "      <td>rer_a</td>\n",
       "      <td>Dernier départ de Poissy terminus Nanterre–Pr...</td>\n",
       "    </tr>\n",
       "    <tr>\n",
       "      <th>...</th>\n",
       "      <td>...</td>\n",
       "      <td>...</td>\n",
       "      <td>...</td>\n",
       "      <td>...</td>\n",
       "      <td>...</td>\n",
       "    </tr>\n",
       "    <tr>\n",
       "      <th>176831</th>\n",
       "      <td>5810</td>\n",
       "      <td>31-01-2013 06:00:57</td>\n",
       "      <td>296845501796610049</td>\n",
       "      <td>ligne14_ratp</td>\n",
       "      <td>la @Ligne6_RATP, la @Ligne12_RATP, la @Ligne13...</td>\n",
       "    </tr>\n",
       "    <tr>\n",
       "      <th>176832</th>\n",
       "      <td>5811</td>\n",
       "      <td>31-01-2013 06:00:31</td>\n",
       "      <td>296845391956172800</td>\n",
       "      <td>ligne14_ratp</td>\n",
       "      <td>Vous pouvez également suivre la @Ligne1_RATP, ...</td>\n",
       "    </tr>\n",
       "    <tr>\n",
       "      <th>176833</th>\n",
       "      <td>5812</td>\n",
       "      <td>31-01-2013 06:00:13</td>\n",
       "      <td>296845315598860289</td>\n",
       "      <td>ligne14_ratp</td>\n",
       "      <td>Ouvert de 6h à 21h, il est animé par les infor...</td>\n",
       "    </tr>\n",
       "    <tr>\n",
       "      <th>176834</th>\n",
       "      <td>5813</td>\n",
       "      <td>31-01-2013 05:59:56</td>\n",
       "      <td>296845245486862336</td>\n",
       "      <td>ligne14_ratp</td>\n",
       "      <td>Ce compte a vocation à vous renseigner sur l’é...</td>\n",
       "    </tr>\n",
       "    <tr>\n",
       "      <th>176835</th>\n",
       "      <td>5814</td>\n",
       "      <td>31-01-2013 05:59:41</td>\n",
       "      <td>296845184099024896</td>\n",
       "      <td>ligne14_ratp</td>\n",
       "      <td>Nous vous souhaitons la bienvenue. La @Ligne14...</td>\n",
       "    </tr>\n",
       "  </tbody>\n",
       "</table>\n",
       "<p>176836 rows × 5 columns</p>\n",
       "</div>"
      ],
      "text/plain": [
       "        index                 date                   id         ligne  \\\n",
       "0           0  08-12-2019 17:41:29  1203716235441123333         rer_a   \n",
       "1           1  07-12-2019 18:14:34  1203362173256421377         rer_a   \n",
       "2           2  06-12-2019 19:25:03  1203017524742434817         rer_a   \n",
       "3           3  06-12-2019 19:25:03  1203017524423643137         rer_a   \n",
       "4           4  06-12-2019 18:40:04  1203006205289009153         rer_a   \n",
       "...       ...                  ...                  ...           ...   \n",
       "176831   5810  31-01-2013 06:00:57   296845501796610049  ligne14_ratp   \n",
       "176832   5811  31-01-2013 06:00:31   296845391956172800  ligne14_ratp   \n",
       "176833   5812  31-01-2013 06:00:13   296845315598860289  ligne14_ratp   \n",
       "176834   5813  31-01-2013 05:59:56   296845245486862336  ligne14_ratp   \n",
       "176835   5814  31-01-2013 05:59:41   296845184099024896  ligne14_ratp   \n",
       "\n",
       "                                                    tweet  \n",
       "0       [Mouvement Social]  Prévisions de trafic pour ...  \n",
       "1       [Mouvement Social]  Prévisions de trafic pour ...  \n",
       "2        Dernier départ de Nanterre–Préfecture vers Ce...  \n",
       "3        Dernier départ de Nanterre–Préfecture vers Po...  \n",
       "4        Dernier départ de Poissy terminus Nanterre–Pr...  \n",
       "...                                                   ...  \n",
       "176831  la @Ligne6_RATP, la @Ligne12_RATP, la @Ligne13...  \n",
       "176832  Vous pouvez également suivre la @Ligne1_RATP, ...  \n",
       "176833  Ouvert de 6h à 21h, il est animé par les infor...  \n",
       "176834  Ce compte a vocation à vous renseigner sur l’é...  \n",
       "176835  Nous vous souhaitons la bienvenue. La @Ligne14...  \n",
       "\n",
       "[176836 rows x 5 columns]"
      ]
     },
     "execution_count": 13,
     "metadata": {},
     "output_type": "execute_result"
    }
   ],
   "source": [
    "df"
   ]
  },
  {
   "cell_type": "code",
   "execution_count": 14,
   "metadata": {},
   "outputs": [
    {
     "data": {
      "text/html": [
       "<div>\n",
       "<style scoped>\n",
       "    .dataframe tbody tr th:only-of-type {\n",
       "        vertical-align: middle;\n",
       "    }\n",
       "\n",
       "    .dataframe tbody tr th {\n",
       "        vertical-align: top;\n",
       "    }\n",
       "\n",
       "    .dataframe thead th {\n",
       "        text-align: right;\n",
       "    }\n",
       "</style>\n",
       "<table border=\"1\" class=\"dataframe\">\n",
       "  <thead>\n",
       "    <tr style=\"text-align: right;\">\n",
       "      <th></th>\n",
       "      <th>index</th>\n",
       "      <th>date</th>\n",
       "      <th>id</th>\n",
       "      <th>ligne</th>\n",
       "      <th>tweet</th>\n",
       "    </tr>\n",
       "  </thead>\n",
       "  <tbody>\n",
       "    <tr>\n",
       "      <th>18793</th>\n",
       "      <td>0</td>\n",
       "      <td>08-12-2019 21:06:15</td>\n",
       "      <td>1203767769575104512</td>\n",
       "      <td>rerb</td>\n",
       "      <td>[Mouvement social]\\n#RERB Trafic très fortemen...</td>\n",
       "    </tr>\n",
       "    <tr>\n",
       "      <th>18794</th>\n",
       "      <td>1</td>\n",
       "      <td>08-12-2019 17:52:22</td>\n",
       "      <td>1203718976053895169</td>\n",
       "      <td>rerb</td>\n",
       "      <td>[Mouvement Social]  Lundi 9 décembre : le traf...</td>\n",
       "    </tr>\n",
       "    <tr>\n",
       "      <th>18795</th>\n",
       "      <td>2</td>\n",
       "      <td>08-12-2019 15:45:01</td>\n",
       "      <td>1203686927611895808</td>\n",
       "      <td>rerb</td>\n",
       "      <td>[Mouvement social]\\n#RERB Trafic très fortemen...</td>\n",
       "    </tr>\n",
       "    <tr>\n",
       "      <th>18796</th>\n",
       "      <td>3</td>\n",
       "      <td>08-12-2019 14:58:30</td>\n",
       "      <td>1203675219753353217</td>\n",
       "      <td>rerb</td>\n",
       "      <td>[Mouvement social] #RERB \\nTrafic très forteme...</td>\n",
       "    </tr>\n",
       "    <tr>\n",
       "      <th>18797</th>\n",
       "      <td>4</td>\n",
       "      <td>08-12-2019 14:22:42</td>\n",
       "      <td>1203666211831201800</td>\n",
       "      <td>rerb</td>\n",
       "      <td>Fin d'intervention des équipes techniques repr...</td>\n",
       "    </tr>\n",
       "    <tr>\n",
       "      <th>...</th>\n",
       "      <td>...</td>\n",
       "      <td>...</td>\n",
       "      <td>...</td>\n",
       "      <td>...</td>\n",
       "      <td>...</td>\n",
       "    </tr>\n",
       "    <tr>\n",
       "      <th>31912</th>\n",
       "      <td>13119</td>\n",
       "      <td>26-08-2013 19:32:58</td>\n",
       "      <td>372049043188236288</td>\n",
       "      <td>rerb</td>\n",
       "      <td>En raison de la présence d'un colis suspect, l...</td>\n",
       "    </tr>\n",
       "    <tr>\n",
       "      <th>31913</th>\n",
       "      <td>13120</td>\n",
       "      <td>26-08-2013 11:24:59</td>\n",
       "      <td>371926237381283840</td>\n",
       "      <td>rerb</td>\n",
       "      <td>Le trafic sera interrompu en semaine à partir ...</td>\n",
       "    </tr>\n",
       "    <tr>\n",
       "      <th>31914</th>\n",
       "      <td>13121</td>\n",
       "      <td>26-08-2013 11:24:20</td>\n",
       "      <td>371926072519954433</td>\n",
       "      <td>rerb</td>\n",
       "      <td>Modernisation du #RERB : dernière semaine de t...</td>\n",
       "    </tr>\n",
       "    <tr>\n",
       "      <th>31915</th>\n",
       "      <td>13122</td>\n",
       "      <td>26-08-2013 06:01:34</td>\n",
       "      <td>371844846735998976</td>\n",
       "      <td>rerb</td>\n",
       "      <td>Abonnez-vous au fil #Twitter @RERB et suivez t...</td>\n",
       "    </tr>\n",
       "    <tr>\n",
       "      <th>31916</th>\n",
       "      <td>13123</td>\n",
       "      <td>26-08-2013 06:01:08</td>\n",
       "      <td>371844736350294016</td>\n",
       "      <td>rerb</td>\n",
       "      <td>Le RER B vous souhaite la bienvenue sur son co...</td>\n",
       "    </tr>\n",
       "  </tbody>\n",
       "</table>\n",
       "<p>13124 rows × 5 columns</p>\n",
       "</div>"
      ],
      "text/plain": [
       "       index                 date                   id ligne  \\\n",
       "18793      0  08-12-2019 21:06:15  1203767769575104512  rerb   \n",
       "18794      1  08-12-2019 17:52:22  1203718976053895169  rerb   \n",
       "18795      2  08-12-2019 15:45:01  1203686927611895808  rerb   \n",
       "18796      3  08-12-2019 14:58:30  1203675219753353217  rerb   \n",
       "18797      4  08-12-2019 14:22:42  1203666211831201800  rerb   \n",
       "...      ...                  ...                  ...   ...   \n",
       "31912  13119  26-08-2013 19:32:58   372049043188236288  rerb   \n",
       "31913  13120  26-08-2013 11:24:59   371926237381283840  rerb   \n",
       "31914  13121  26-08-2013 11:24:20   371926072519954433  rerb   \n",
       "31915  13122  26-08-2013 06:01:34   371844846735998976  rerb   \n",
       "31916  13123  26-08-2013 06:01:08   371844736350294016  rerb   \n",
       "\n",
       "                                                   tweet  \n",
       "18793  [Mouvement social]\\n#RERB Trafic très fortemen...  \n",
       "18794  [Mouvement Social]  Lundi 9 décembre : le traf...  \n",
       "18795  [Mouvement social]\\n#RERB Trafic très fortemen...  \n",
       "18796  [Mouvement social] #RERB \\nTrafic très forteme...  \n",
       "18797  Fin d'intervention des équipes techniques repr...  \n",
       "...                                                  ...  \n",
       "31912  En raison de la présence d'un colis suspect, l...  \n",
       "31913  Le trafic sera interrompu en semaine à partir ...  \n",
       "31914  Modernisation du #RERB : dernière semaine de t...  \n",
       "31915  Abonnez-vous au fil #Twitter @RERB et suivez t...  \n",
       "31916  Le RER B vous souhaite la bienvenue sur son co...  \n",
       "\n",
       "[13124 rows x 5 columns]"
      ]
     },
     "execution_count": 14,
     "metadata": {},
     "output_type": "execute_result"
    }
   ],
   "source": [
    "df[df['ligne']=='rerb']"
   ]
  },
  {
   "cell_type": "code",
   "execution_count": 15,
   "metadata": {},
   "outputs": [
    {
     "data": {
      "text/plain": [
       "<matplotlib.axes._subplots.AxesSubplot at 0x12c7ae2b0>"
      ]
     },
     "execution_count": 15,
     "metadata": {},
     "output_type": "execute_result"
    },
    {
     "data": {
      "image/png": "[encoded data removed]",
      "text/plain": [
       "<Figure size 432x288 with 1 Axes>"
      ]
     },
     "metadata": {
      "needs_background": "light"
     },
     "output_type": "display_data"
    }
   ],
   "source": [
    "df[\"ligne\"].value_counts().plot(kind='bar')"
   ]
  },
  {
   "cell_type": "code",
   "execution_count": 16,
   "metadata": {},
   "outputs": [
    {
     "data": {
      "text/plain": [
       "<matplotlib.axes._subplots.AxesSubplot at 0x12c9005f8>"
      ]
     },
     "execution_count": 16,
     "metadata": {},
     "output_type": "execute_result"
    },
    {
     "data": {
      "image/png": "[encoded data removed]",
      "text/plain": [
       "<Figure size 432x288 with 1 Axes>"
      ]
     },
     "metadata": {
      "needs_background": "light"
     },
     "output_type": "display_data"
    }
   ],
   "source": [
    "df[df['tweet'].str.contains('[Rr]epris', regex=True)][\"ligne\"].value_counts().plot(kind='bar')"
   ]
  },
  {
   "cell_type": "code",
   "execution_count": 17,
   "metadata": {},
   "outputs": [
    {
     "data": {
      "text/plain": [
       "<matplotlib.axes._subplots.AxesSubplot at 0x12c9b2908>"
      ]
     },
     "execution_count": 17,
     "metadata": {},
     "output_type": "execute_result"
    },
    {
     "data": {
      "image/png": "[encoded data removed]",
      "text/plain": [
       "<Figure size 432x288 with 1 Axes>"
      ]
     },
     "metadata": {
      "needs_background": "light"
     },
     "output_type": "display_data"
    }
   ],
   "source": [
    "df[df['tweet'].str.contains('[Ii]nterrompu', regex=True)][\"ligne\"].value_counts().plot(kind='bar')"
   ]
  },
  {
   "cell_type": "code",
   "execution_count": 18,
   "metadata": {},
   "outputs": [
    {
     "data": {
      "text/plain": [
       "<matplotlib.axes._subplots.AxesSubplot at 0x12ca57588>"
      ]
     },
     "execution_count": 18,
     "metadata": {},
     "output_type": "execute_result"
    },
    {
     "data": {
      "image/png": "[encoded data removed]",
      "text/plain": [
       "<Figure size 432x288 with 1 Axes>"
      ]
     },
     "metadata": {
      "needs_background": "light"
     },
     "output_type": "display_data"
    }
   ],
   "source": [
    "df[df['tweet'].str.contains('[Ii]ncident', regex=True)][\"ligne\"].value_counts().plot(kind='bar')"
   ]
  },
  {
   "cell_type": "code",
   "execution_count": 19,
   "metadata": {},
   "outputs": [
    {
     "data": {
      "text/plain": [
       "<matplotlib.axes._subplots.AxesSubplot at 0x12cac2d30>"
      ]
     },
     "execution_count": 19,
     "metadata": {},
     "output_type": "execute_result"
    },
    {
     "data": {
      "image/png": "[encoded data removed]",
      "text/plain": [
       "<Figure size 432x288 with 1 Axes>"
      ]
     },
     "metadata": {
      "needs_background": "light"
     },
     "output_type": "display_data"
    }
   ],
   "source": [
    "df[df['tweet'].str.contains('[Mm]alaise voyageur', regex=True)][\"ligne\"].value_counts().plot(kind='bar')"
   ]
  },
  {
   "cell_type": "code",
   "execution_count": null,
   "metadata": {},
   "outputs": [],
   "source": []
  },
  {
   "cell_type": "code",
   "execution_count": null,
   "metadata": {},
   "outputs": [],
   "source": []
  },
  {
   "cell_type": "code",
   "execution_count": null,
   "metadata": {},
   "outputs": [],
   "source": []
  }
 ],
 "metadata": {
  "kernelspec": {
   "display_name": "Python 3",
   "language": "python",
   "name": "python3"
  },
  "language_info": {
   "codemirror_mode": {
    "name": "ipython",
    "version": 3
   },
   "file_extension": ".py",
   "mimetype": "text/x-python",
   "name": "python",
   "nbconvert_exporter": "python",
   "pygments_lexer": "ipython3",
   "version": "3.6.8"
  }
 },
 "nbformat": 4,
 "nbformat_minor": 4
}
